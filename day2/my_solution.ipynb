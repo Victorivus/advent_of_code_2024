{
 "cells": [
  {
   "cell_type": "markdown",
   "metadata": {},
   "source": [
    "# --- Day 1: Historian Hysteria ---\n",
    "## Part 1\n"
   ]
  },
  {
   "cell_type": "code",
   "execution_count": 36,
   "metadata": {},
   "outputs": [],
   "source": [
    "import numpy as np\n",
    "\n",
    "example_doc = \"\"\"7 6 4 2 1\n",
    "1 2 7 8 9\n",
    "9 7 6 2 1\n",
    "1 3 2 4 5\n",
    "8 6 4 4 1\n",
    "1 3 6 7 9\n",
    "\"\"\"\n",
    "example_doc = [np.array(i.split(' ')).astype(int) for i in example_doc.split('\\n')[:-1]]\n"
   ]
  },
  {
   "cell_type": "code",
   "execution_count": 57,
   "metadata": {},
   "outputs": [],
   "source": [
    "def monotonic(input):\n",
    "    '''\n",
    "    Return if the input is strictly monotonic (i.e. all increasing or all decreasing)\n",
    "    '''\n",
    "    prev_i = input[1]\n",
    "    if prev_i > input[0]:\n",
    "        for i in input[2:]:\n",
    "            if i <= prev_i:\n",
    "                return False\n",
    "            prev_i = i\n",
    "    else:\n",
    "        for i in input[2:]:\n",
    "            if i >= prev_i:\n",
    "                return False\n",
    "            prev_i = i\n",
    "    return True\n",
    "\n",
    "def diffs(input, min_diff=1, max_diff=3):\n",
    "    '''\n",
    "    Return if the any two adjacent numbers of the input differ by at least `min_diff` and at most `max_diff`.\n",
    "    '''\n",
    "    prev_i = input[0]\n",
    "    for i in input[1:]:\n",
    "        if (max_diff < np.abs(i - prev_i)) or (np.abs(i - prev_i) < min_diff):\n",
    "            return False\n",
    "        prev_i = i\n",
    "    return True"
   ]
  },
  {
   "cell_type": "code",
   "execution_count": 58,
   "metadata": {},
   "outputs": [
    {
     "name": "stdout",
     "output_type": "stream",
     "text": [
      "Example total safe reports: 2\n"
     ]
    }
   ],
   "source": [
    "sum = np.sum([monotonic(i) and diffs(i) for i in example_doc])\n",
    "\n",
    "print(\"Example total safe reports:\", sum)\n"
   ]
  },
  {
   "cell_type": "code",
   "execution_count": 59,
   "metadata": {},
   "outputs": [
    {
     "name": "stdout",
     "output_type": "stream",
     "text": [
      "Part 1 total safe reports: 299\n"
     ]
    }
   ],
   "source": [
    "with open(\"input.txt\", \"r\") as input:\n",
    "\tdoc = [np.array(i[:-1].split(' ')).astype(int) for i in input.readlines()]\n",
    "\n",
    "sum = np.sum([monotonic(i) and diffs(i) for i in doc])\n",
    "\n",
    "print(\"Part 1 total safe reports:\", sum)\n"
   ]
  },
  {
   "cell_type": "markdown",
   "metadata": {},
   "source": [
    "## Part 2"
   ]
  },
  {
   "cell_type": "code",
   "execution_count": 93,
   "metadata": {},
   "outputs": [],
   "source": [
    "def part_2(input):\n",
    "    input = list(input)\n",
    "    part_2 = []\n",
    "    for report in input:\n",
    "        safe = False\n",
    "        if not monotonic(report) or not diffs(report):\n",
    "            for i, level in enumerate(report):\n",
    "                combo = list(report.copy())\n",
    "                combo.pop(i)\n",
    "                if monotonic(combo) and diffs(combo):\n",
    "                    safe = True\n",
    "                    continue\n",
    "        else:\n",
    "            safe = True\n",
    "        part_2.append(safe)\n",
    "    return part_2"
   ]
  },
  {
   "cell_type": "code",
   "execution_count": null,
   "metadata": {},
   "outputs": [
    {
     "data": {
      "text/plain": [
       "4"
      ]
     },
     "execution_count": 97,
     "metadata": {},
     "output_type": "execute_result"
    }
   ],
   "source": [
    "sum = np.sum(part_2(example_doc))\n",
    "\n",
    "print(\"Example total safe reports:\", sum)\n"
   ]
  },
  {
   "cell_type": "code",
   "execution_count": 96,
   "metadata": {},
   "outputs": [
    {
     "name": "stdout",
     "output_type": "stream",
     "text": [
      "Part 2 total safe reports: 364\n"
     ]
    }
   ],
   "source": [
    "\n",
    "sum = np.sum(part_2(doc))\n",
    "\n",
    "print(\"Part 2 total safe reports:\", sum)"
   ]
  }
 ],
 "metadata": {
  "kernelspec": {
   "display_name": "base",
   "language": "python",
   "name": "python3"
  },
  "language_info": {
   "codemirror_mode": {
    "name": "ipython",
    "version": 3
   },
   "file_extension": ".py",
   "mimetype": "text/x-python",
   "name": "python",
   "nbconvert_exporter": "python",
   "pygments_lexer": "ipython3",
   "version": "3.12.4"
  },
  "orig_nbformat": 4
 },
 "nbformat": 4,
 "nbformat_minor": 2
}
