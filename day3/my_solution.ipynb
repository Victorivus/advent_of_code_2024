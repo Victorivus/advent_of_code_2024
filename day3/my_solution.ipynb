{
 "cells": [
  {
   "cell_type": "markdown",
   "metadata": {},
   "source": [
    "# --- Day 3: Mull It Over ---\n",
    "## Part 1\n"
   ]
  },
  {
   "cell_type": "code",
   "execution_count": 1,
   "metadata": {},
   "outputs": [
    {
     "name": "stdout",
     "output_type": "stream",
     "text": [
      "Example total sum of the results of the multiplications: 161\n",
      "Part 1 total sum of the results of the multiplications: 175700056\n"
     ]
    }
   ],
   "source": [
    "import re\n",
    "import numpy as np\n",
    "\n",
    "example_doc = \"xmul(2,4)%&mul[3,7]!@^do_not_mul(5,5)+mul(32,64]then(mul(11,8)mul(8,5))\"\n",
    "\n",
    "with open(\"input.txt\", \"r\") as input:\n",
    "\tdoc = input.readlines()\n",
    "\n",
    "doc = str(doc)\n",
    "\n",
    "def mult_sum(s):\n",
    "    sum = 0\n",
    "    muls = re.findall('mul\\\\([0-9]{1,3},[0-9]{1,3}\\\\)', s)\n",
    "\n",
    "    for mul in muls:\n",
    "        sum += np.array(mul[4:-1].split(',')).astype(int).prod()\n",
    "    return sum\n",
    "\n",
    "print(\"Example total sum of the results of the multiplications:\", mult_sum(example_doc))\n",
    "print(\"Part 1 total sum of the results of the multiplications:\", mult_sum(doc))\n"
   ]
  },
  {
   "cell_type": "markdown",
   "metadata": {},
   "source": [
    "## Part 2"
   ]
  },
  {
   "cell_type": "code",
   "execution_count": 2,
   "metadata": {},
   "outputs": [
    {
     "name": "stdout",
     "output_type": "stream",
     "text": [
      "Example total sum of the results of the multiplications: 48\n",
      "Part 1 total sum of the results of the multiplications: 71668682\n"
     ]
    }
   ],
   "source": [
    "example_doc = \"xmul(2,4)&mul[3,7]!^don't()_mul(5,5)+mul(32,64](mul(11,8)undo()?mul(8,5))\"\n",
    "\n",
    "def recursive(s, sum=0):\n",
    "    for i, chunk in enumerate(s.split(\"don't()\")): # We should get 0 and evens\n",
    "        if i==0:\n",
    "            sum += mult_sum(chunk)\n",
    "        dos = chunk.split(\"do()\")\n",
    "        if len(dos) > 1:\n",
    "            sum = recursive(''.join(dos[1:]), sum)\n",
    "    return sum\n",
    "\n",
    "print(\"Example total sum of the results of the multiplications:\", recursive(example_doc))\n",
    "print(\"Part 1 total sum of the results of the multiplications:\", recursive(doc))\n"
   ]
  }
 ],
 "metadata": {
  "kernelspec": {
   "display_name": "base",
   "language": "python",
   "name": "python3"
  },
  "language_info": {
   "codemirror_mode": {
    "name": "ipython",
    "version": 3
   },
   "file_extension": ".py",
   "mimetype": "text/x-python",
   "name": "python",
   "nbconvert_exporter": "python",
   "pygments_lexer": "ipython3",
   "version": "3.12.4"
  },
  "orig_nbformat": 4
 },
 "nbformat": 4,
 "nbformat_minor": 2
}
