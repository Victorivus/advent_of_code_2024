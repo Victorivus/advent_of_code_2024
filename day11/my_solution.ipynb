{
 "cells": [
  {
   "cell_type": "markdown",
   "metadata": {},
   "source": [
    "# --- Day 11: Plutonian Pebbles ---\n",
    "## Part 1\n"
   ]
  },
  {
   "cell_type": "code",
   "execution_count": 1,
   "metadata": {},
   "outputs": [],
   "source": [
    "import re\n",
    "import numpy as np\n",
    "\n",
    "example_doc = \"\"\"0 1 10 99 999\"\"\"\n",
    "with open(\"input.txt\", \"r\") as input:\n",
    "    doc = input.readlines()[0][:-1]\n",
    "\n",
    "def load_input(doc):\n",
    "    stones = [int(f) for f in doc.strip().split(' ')]\n",
    "    return stones\n"
   ]
  },
  {
   "cell_type": "code",
   "execution_count": 2,
   "metadata": {},
   "outputs": [
    {
     "data": {
      "text/plain": [
       "[0, 1, 10, 99, 999]"
      ]
     },
     "execution_count": 2,
     "metadata": {},
     "output_type": "execute_result"
    }
   ],
   "source": [
    "stones = load_input(example_doc)\n",
    "stones"
   ]
  },
  {
   "cell_type": "code",
   "execution_count": 3,
   "metadata": {},
   "outputs": [
    {
     "name": "stdout",
     "output_type": "stream",
     "text": [
      "Example one stone line after one blink: [1, 2024, 1, 0, 9, 9, 2021976]\n"
     ]
    }
   ],
   "source": [
    "def blink(stone, debug=False) -> list[int]:\n",
    "    # First rule\n",
    "    if stone == 0:\n",
    "        return [1]\n",
    "    # Second rule\n",
    "    elif len(str(stone)) % 2 == 0:\n",
    "        return [int(str(stone)[:len(str(stone))//2]),\n",
    "                int(str(stone)[len(str(stone))//2:])]\n",
    "    #Third rule\n",
    "    else:\n",
    "        return [stone * 2024]\n",
    "\n",
    "new_stones = [item for row in [blink(s) for s in stones] for item in row]\n",
    "\n",
    "print(f\"Example one stone line after one blink: {new_stones}\")\n",
    "\n"
   ]
  },
  {
   "cell_type": "code",
   "execution_count": 4,
   "metadata": {},
   "outputs": [
    {
     "name": "stdout",
     "output_type": "stream",
     "text": [
      "Number of stones after 25 blinks: 55312\n",
      "Number of stones after 25 blinks: 186424\n"
     ]
    }
   ],
   "source": [
    "for stones in [[125, 17], load_input(doc)]:\n",
    "    new_stones = stones.copy()\n",
    "    for i in range(25):\n",
    "        new_stones = [item for row in [blink(s) for s in new_stones] for item in row]\n",
    "    print(f\"Number of stones after 25 blinks: {len(new_stones)}\")\n"
   ]
  },
  {
   "cell_type": "markdown",
   "metadata": {},
   "source": [
    "## Part 2\n",
    "\n",
    "We need to become more efficient, so let's create a lookup table for previous results"
   ]
  },
  {
   "cell_type": "code",
   "execution_count": 5,
   "metadata": {},
   "outputs": [
    {
     "name": "stdout",
     "output_type": "stream",
     "text": [
      "Number of stones after 75 blinks: 219838428124832\n"
     ]
    }
   ],
   "source": [
    "from collections import defaultdict\n",
    "\n",
    "# Lookup table (dict)\n",
    "blink_cache = {}\n",
    "\n",
    "# Initial stones count\n",
    "stone_counts = defaultdict(int)\n",
    "\n",
    "# Initial count\n",
    "for s in stones:\n",
    "    stone_counts[s] += 1\n",
    "\n",
    "for i in range(75):\n",
    "    new_stone_counts = defaultdict(int)\n",
    "    for s, count in stone_counts.items():\n",
    "        if s not in blink_cache:\n",
    "            blink_cache[s] = blink(s)\n",
    "        for result in blink_cache[s]:\n",
    "            new_stone_counts[result] += count\n",
    "    stone_counts = new_stone_counts\n",
    "\n",
    "total_stones = np.sum([v for v in stone_counts.values()])\n",
    "\n",
    "print(f\"Number of stones after 75 blinks: {total_stones}\")"
   ]
  }
 ],
 "metadata": {
  "kernelspec": {
   "display_name": "base",
   "language": "python",
   "name": "python3"
  },
  "language_info": {
   "codemirror_mode": {
    "name": "ipython",
    "version": 3
   },
   "file_extension": ".py",
   "mimetype": "text/x-python",
   "name": "python",
   "nbconvert_exporter": "python",
   "pygments_lexer": "ipython3",
   "version": "3.12.4"
  },
  "orig_nbformat": 4
 },
 "nbformat": 4,
 "nbformat_minor": 2
}
