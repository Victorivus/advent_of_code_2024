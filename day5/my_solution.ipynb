{
 "cells": [
  {
   "cell_type": "markdown",
   "metadata": {},
   "source": [
    "# --- Day 5: Print Queue ---\n",
    "## Part 1\n"
   ]
  },
  {
   "cell_type": "code",
   "execution_count": null,
   "metadata": {},
   "outputs": [],
   "source": [
    "import numpy as np\n",
    "\n",
    "example_doc = \"\"\"47|53\n",
    "97|13\n",
    "97|61\n",
    "97|47\n",
    "75|29\n",
    "61|13\n",
    "75|53\n",
    "29|13\n",
    "97|29\n",
    "53|29\n",
    "61|53\n",
    "97|53\n",
    "61|29\n",
    "47|13\n",
    "75|47\n",
    "97|75\n",
    "47|61\n",
    "75|61\n",
    "47|29\n",
    "75|13\n",
    "53|13\n",
    "\n",
    "75,47,61,53,29\n",
    "97,61,53,29,13\n",
    "75,29,13\n",
    "75,97,47,61,53\n",
    "61,13,29\n",
    "97,13,75,29,47\"\"\"\n",
    "\n",
    "def load_example():\n",
    "    rules = []\n",
    "    updates = []\n",
    "\n",
    "    for line in example_doc.split('\\n'):\n",
    "        if '|' in line:\n",
    "            rules.append(line)\n",
    "        elif ',' in line:\n",
    "            updates.append([i for i in line.split(',')])\n",
    "    return updates, rules\n",
    "\n",
    "def load_input():\n",
    "    rules = []\n",
    "    updates = []\n",
    "\n",
    "    with open(\"input.txt\", \"r\") as input:\n",
    "        for line in input.readlines():\n",
    "            if '|' in line:\n",
    "                rules.append(line[:-1])\n",
    "            elif ',' in line:\n",
    "                updates.append([i.strip() for i in line.split(',')])\n",
    "    return updates, rules\n"
   ]
  },
  {
   "cell_type": "code",
   "execution_count": 2,
   "metadata": {},
   "outputs": [
    {
     "name": "stdout",
     "output_type": "stream",
     "text": [
      "Example total sum of the correctly ordered middle page number (method 1): 143\n"
     ]
    }
   ],
   "source": [
    "def get_correct_indexes(updates, rules):\n",
    "    correct = []\n",
    "    for i, update in enumerate(updates):\n",
    "        prev_u = update[0]\n",
    "        mistake = False\n",
    "        for u in update[1:]:\n",
    "            if u + '|' + prev_u in rules:\n",
    "                mistake = True\n",
    "                break\n",
    "            prev_u = u\n",
    "        if not mistake:\n",
    "            correct.append(i)\n",
    "    return correct\n",
    "\n",
    "updates, rules = load_example()\n",
    "\n",
    "correct = get_correct_indexes(updates, rules)\n",
    "sum = np.sum([int(updates[i][len(updates[i])//2]) for i in correct])\n",
    "\n",
    "print(\"Example total sum of the correctly ordered middle page number (method 1):\", sum)\n"
   ]
  },
  {
   "cell_type": "code",
   "execution_count": 3,
   "metadata": {},
   "outputs": [
    {
     "name": "stdout",
     "output_type": "stream",
     "text": [
      "Example total sum of the correctly ordered middle page number (method 1): 143\n"
     ]
    }
   ],
   "source": [
    "def get_correct_indexes_bis(updates, rules):\n",
    "    correct = []\n",
    "    for i, update in enumerate(updates):\n",
    "        mistake = False\n",
    "        for j, u in enumerate(update):\n",
    "            next_us = update[j:]\n",
    "            if any([m in rules for m in [k + '|' + u for k in next_us]]):\n",
    "                mistake = True\n",
    "                break\n",
    "        if not mistake:\n",
    "            correct.append(i)\n",
    "    return correct\n",
    "\n",
    "\n",
    "correct = get_correct_indexes_bis(updates, rules)\n",
    "sum = np.sum([int(updates[i][len(updates[i])//2]) for i in correct])\n",
    "\n",
    "print(\"Example total sum of the correctly ordered middle page number (method 1):\", sum)\n"
   ]
  },
  {
   "cell_type": "code",
   "execution_count": 4,
   "metadata": {},
   "outputs": [
    {
     "name": "stdout",
     "output_type": "stream",
     "text": [
      "Part 1 total sum of the correctly ordered middle page number (method 1): 4185\n",
      "Part 1 total sum of the correctly ordered middle page number (method 2): 4185\n"
     ]
    }
   ],
   "source": [
    "updates, rules = load_input()\n",
    "\n",
    "correct = get_correct_indexes_bis(updates, rules)\n",
    "sum = np.sum([int(updates[i][len(updates[i])//2]) for i in correct])\n",
    "\n",
    "print(\"Part 1 total sum of the correctly ordered middle page number (method 1):\", sum)\n",
    "correct = get_correct_indexes(updates, rules)\n",
    "sum = np.sum([int(updates[i][len(updates[i])//2]) for i in correct])\n",
    "\n",
    "print(\"Part 1 total sum of the correctly ordered middle page number (method 2):\", sum)\n"
   ]
  },
  {
   "cell_type": "markdown",
   "metadata": {},
   "source": [
    "## Part 2"
   ]
  },
  {
   "cell_type": "code",
   "execution_count": 5,
   "metadata": {},
   "outputs": [],
   "source": [
    "updates, rules = load_example()\n",
    "\n",
    "correct = get_correct_indexes(updates, rules)\n",
    "incorrect = [i for i,_ in enumerate(updates) if i not in correct] \n",
    "incorrect_updates = [updates[i] for i in incorrect]\n"
   ]
  },
  {
   "cell_type": "code",
   "execution_count": 6,
   "metadata": {},
   "outputs": [
    {
     "name": "stdout",
     "output_type": "stream",
     "text": [
      "Example total sum of the correctly ordered middle page number: 123\n"
     ]
    }
   ],
   "source": [
    "def correct_the_incorrect(updates, rules):\n",
    "    for i, update in enumerate(updates):\n",
    "        for j, u in enumerate(update):\n",
    "            try:\n",
    "                if update[j+1] + '|' + update[j] in rules:\n",
    "                    # print(update[j+1] + '|' + update[j])\n",
    "                    # print(update)\n",
    "                    buffer = update[j]\n",
    "                    update[j] = update[j+1]\n",
    "                    update[j+1] = buffer\n",
    "            except IndexError:\n",
    "                continue\n",
    "    return updates\n",
    "\n",
    "prev_sum = 0\n",
    "diff = 1\n",
    "while diff != 0:\n",
    "    corrected_updates = correct_the_incorrect(updates, rules)\n",
    "    diff = np.sum([int(corrected_updates[i][len(corrected_updates[i])//2]) for i in incorrect]) - prev_sum\n",
    "    prev_sum = np.sum([int(corrected_updates[i][len(corrected_updates[i])//2]) for i in incorrect])\n",
    "sum = np.sum([int(corrected_updates[i][len(corrected_updates[i])//2]) for i in incorrect])\n",
    "\n",
    "print(\"Example total sum of the correctly ordered middle page number:\", sum)"
   ]
  },
  {
   "cell_type": "code",
   "execution_count": 7,
   "metadata": {},
   "outputs": [
    {
     "name": "stdout",
     "output_type": "stream",
     "text": [
      "Part 2 total sum of the correctly ordered middle page number: 4480\n"
     ]
    }
   ],
   "source": [
    "updates, rules = load_input()\n",
    "\n",
    "correct = get_correct_indexes(updates, rules)\n",
    "incorrect = [i for i,_ in enumerate(updates) if i not in correct] \n",
    "incorrect_updates = [updates[i] for i in incorrect]\n",
    "\n",
    "prev_sum = 0\n",
    "diff = 1\n",
    "while diff != 0:\n",
    "    corrected_updates = correct_the_incorrect(updates, rules)\n",
    "    diff = np.sum([int(corrected_updates[i][len(corrected_updates[i])//2]) for i in incorrect]) - prev_sum\n",
    "    prev_sum = np.sum([int(corrected_updates[i][len(corrected_updates[i])//2]) for i in incorrect])\n",
    "sum = np.sum([int(corrected_updates[i][len(corrected_updates[i])//2]) for i in incorrect])\n",
    "\n",
    "print(\"Part 2 total sum of the correctly ordered middle page number:\", sum)"
   ]
  }
 ],
 "metadata": {
  "kernelspec": {
   "display_name": "base",
   "language": "python",
   "name": "python3"
  },
  "language_info": {
   "codemirror_mode": {
    "name": "ipython",
    "version": 3
   },
   "file_extension": ".py",
   "mimetype": "text/x-python",
   "name": "python",
   "nbconvert_exporter": "python",
   "pygments_lexer": "ipython3",
   "version": "3.12.4"
  },
  "orig_nbformat": 4
 },
 "nbformat": 4,
 "nbformat_minor": 2
}
