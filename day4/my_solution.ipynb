{
 "cells": [
  {
   "cell_type": "markdown",
   "metadata": {},
   "source": [
    "# --- Day 4: Ceres Search ---\n",
    "## Part 1\n"
   ]
  },
  {
   "cell_type": "code",
   "execution_count": 1,
   "metadata": {},
   "outputs": [],
   "source": [
    "import numpy as np\n",
    "\n",
    "example_doc = \"\"\"MMMSXXMASM\n",
    "MSAMXMSMSA\n",
    "AMXSXMAAMM\n",
    "MSAMASMSMX\n",
    "XMASAMXAMM\n",
    "XXAMMXXAMA\n",
    "SMSMSASXSS\n",
    "SAXAMASAAA\n",
    "MAMMMXMMMM\n",
    "MXMXAXMASX\n",
    "\"\"\"\n",
    "example_doc = np.array([[j for j in i] for i in example_doc.split('\\n')[:-1]])\n"
   ]
  },
  {
   "cell_type": "code",
   "execution_count": 2,
   "metadata": {},
   "outputs": [],
   "source": [
    "def horizontal(input, target='XMAS'):\n",
    "    '''\n",
    "    Return if XMAS is present horizontally both directions\n",
    "    '''\n",
    "    tlen = len(target)\n",
    "    target = [i for i in target]  # Str to list\n",
    "    word = []\n",
    "    sum = 0\n",
    "    rows = range(input.shape[0])\n",
    "    cols = range(input.shape[1])\n",
    "    for iter1, iter2 in zip([rows, rows[::-1]], [cols, cols[::-1]]):\n",
    "        for row in iter1:\n",
    "            for col in iter2:\n",
    "                word.append(input[row, col])\n",
    "                if len(word) > tlen:\n",
    "                    word.pop(0)\n",
    "                if len(word) == tlen and word == target:\n",
    "                    sum += 1\n",
    "            word = []\n",
    "    return sum\n",
    "\n",
    "def diagonal(input, target='XMAS'):\n",
    "    '''\n",
    "    Return if XMAS is present diagonally both directions by flattenning all diagonals,\n",
    "    creating a square matrix and calling horizontal.\n",
    "    '''\n",
    "    diags = [input[::-1,:].diagonal(i) for i in range(-input.shape[0]+1, input.shape[1])]\n",
    "    diags.extend(input.diagonal(i) for i in range(input.shape[1]-1,-input.shape[0],-1))\n",
    "    diags = [n.tolist() for n in diags]\n",
    "    target_len = len(input)\n",
    "    diags = [i[:target_len] + ['.']*(target_len - len(i)) for i in diags]\n",
    "    return horizontal(np.array(diags))\n"
   ]
  },
  {
   "cell_type": "code",
   "execution_count": 3,
   "metadata": {},
   "outputs": [
    {
     "name": "stdout",
     "output_type": "stream",
     "text": [
      "Example total XMAS times: 18\n"
     ]
    }
   ],
   "source": [
    "h = horizontal(example_doc)\n",
    "v = horizontal(example_doc.T)\n",
    "d = diagonal(example_doc)\n",
    "\n",
    "print(\"Example total XMAS times:\", h+v+d)\n"
   ]
  },
  {
   "cell_type": "code",
   "execution_count": 4,
   "metadata": {},
   "outputs": [
    {
     "name": "stdout",
     "output_type": "stream",
     "text": [
      "Part 1 total XMAS times: 2613\n"
     ]
    }
   ],
   "source": [
    "with open(\"input.txt\", \"r\") as input:\n",
    "\tdoc = np.array([[j for j in i[:-1]] for i in input.readlines()])\n",
    "\n",
    "h = horizontal(doc)\n",
    "v = horizontal(doc.T)\n",
    "d = diagonal(doc)\n",
    "\n",
    "print(\"Part 1 total XMAS times:\", h+v+d)\n"
   ]
  },
  {
   "cell_type": "markdown",
   "metadata": {},
   "source": [
    "## Part 2"
   ]
  },
  {
   "cell_type": "code",
   "execution_count": 5,
   "metadata": {},
   "outputs": [],
   "source": [
    "def crossed(input):\n",
    "    '''\n",
    "    Return if MAS is present in a X shape in any direction\n",
    "    '''\n",
    "    targets = [['M', 'S', 'A', 'M', 'S'],\n",
    "                ['S', 'S', 'A', 'M', 'M'],\n",
    "                ['M', 'M', 'A', 'S', 'S'],\n",
    "                ['S', 'M', 'A', 'S', 'M']]\n",
    "    word = []\n",
    "    sum = 0\n",
    "    rows = range(input.shape[0])\n",
    "    cols = range(input.shape[1])\n",
    "    \n",
    "    #for iter1, iter2 in zip([rows, rows[::-1]], [cols, cols[::-1]]):\n",
    "    for iter1, iter2 in zip([rows], [cols]):\n",
    "        for row in iter1:\n",
    "            for col in iter2:\n",
    "                try:\n",
    "                    word = input[row:row+3, col:col+3]\n",
    "                    subword = [word[0,0], word[0,2],\n",
    "                           word[1,1],\n",
    "                           word[2,0],word[2,2]]\n",
    "                    if subword in targets:\n",
    "                        sum += 1\n",
    "                except IndexError:\n",
    "                    continue\n",
    "                \n",
    "    return sum"
   ]
  },
  {
   "cell_type": "code",
   "execution_count": 6,
   "metadata": {},
   "outputs": [
    {
     "name": "stdout",
     "output_type": "stream",
     "text": [
      "Example total XMAS times: 9\n",
      "Part 2 total XMAS times: 1905\n"
     ]
    }
   ],
   "source": [
    "print(\"Example total XMAS times:\", crossed(example_doc))\n",
    "\n",
    "print(\"Part 2 total XMAS times:\", crossed(doc))\n"
   ]
  }
 ],
 "metadata": {
  "kernelspec": {
   "display_name": "base",
   "language": "python",
   "name": "python3"
  },
  "language_info": {
   "codemirror_mode": {
    "name": "ipython",
    "version": 3
   },
   "file_extension": ".py",
   "mimetype": "text/x-python",
   "name": "python",
   "nbconvert_exporter": "python",
   "pygments_lexer": "ipython3",
   "version": "3.12.4"
  },
  "orig_nbformat": 4
 },
 "nbformat": 4,
 "nbformat_minor": 2
}
