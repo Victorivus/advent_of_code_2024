{
 "cells": [
  {
   "cell_type": "markdown",
   "metadata": {},
   "source": [
    "# --- Day 1: Historian Hysteria ---\n",
    "## Part 1\n"
   ]
  },
  {
   "cell_type": "code",
   "execution_count": 1,
   "metadata": {},
   "outputs": [
    {
     "name": "stdout",
     "output_type": "stream",
     "text": [
      "Example total distance between lists: 11\n"
     ]
    }
   ],
   "source": [
    "import numpy as np\n",
    "\n",
    "example_doc = \"\"\"3   4\n",
    "4   3\n",
    "2   5\n",
    "1   3\n",
    "3   9\n",
    "3   3\n",
    "\"\"\"\n",
    "example_doc = [i.split('   ') for i in example_doc.split('\\n')[:-1]]\n",
    "e_1, e_2 = [i[0] for i in example_doc], [i[1] for i in example_doc]\n",
    "e_1, e_2 = np.array(e_1).astype(int), np.array(e_2).astype(int)\n",
    "\n",
    "sum = np.sum(np.abs(np.sort(e_1)-np.sort(e_2)))\n",
    "\n",
    "print(\"Example total distance between lists:\", sum)\n"
   ]
  },
  {
   "cell_type": "code",
   "execution_count": 2,
   "metadata": {},
   "outputs": [
    {
     "name": "stdout",
     "output_type": "stream",
     "text": [
      "Part 1 total distance between lists: 1879048\n"
     ]
    }
   ],
   "source": [
    "\n",
    "with open(\"input.txt\", \"r\") as input:\n",
    "\tdoc = [i[:-1].split('   ') for i in input.readlines()]\n",
    "e_1, e_2 = [i[0] for i in doc], [i[1] for i in doc]\n",
    "e_1, e_2 = np.array(e_1).astype(int), np.array(e_2).astype(int)\n",
    "\n",
    "sum = np.sum(np.abs(np.sort(e_1)-np.sort(e_2)))\n",
    "\n",
    "print(\"Part 1 total distance between lists:\", sum)\n"
   ]
  },
  {
   "cell_type": "markdown",
   "metadata": {},
   "source": [
    "## Part 2"
   ]
  },
  {
   "cell_type": "code",
   "execution_count": 3,
   "metadata": {},
   "outputs": [
    {
     "name": "stdout",
     "output_type": "stream",
     "text": [
      "Example total distance between lists: 31\n"
     ]
    }
   ],
   "source": [
    "example_doc = \"\"\"3   4\n",
    "4   3\n",
    "2   5\n",
    "1   3\n",
    "3   9\n",
    "3   3\n",
    "\"\"\"\n",
    "example_doc = [i.split('   ') for i in example_doc.split('\\n')[:-1]]\n",
    "e_1, e_2 = [i[0] for i in example_doc], [i[1] for i in example_doc]\n",
    "e_1, e_2 = np.array(e_1).astype(int), np.array(e_2).astype(int)\n",
    "\n",
    "sum = np.sum(e_1 * [np.sum([i == j for i in e_2]) for j in e_1])\n",
    "\n",
    "print(\"Example total distance between lists:\", sum)\n"
   ]
  },
  {
   "cell_type": "code",
   "execution_count": 4,
   "metadata": {},
   "outputs": [
    {
     "name": "stdout",
     "output_type": "stream",
     "text": [
      "Part 1 total distance between lists: 21024792\n"
     ]
    }
   ],
   "source": [
    "e_1, e_2 = [i[0] for i in doc], [i[1] for i in doc]\n",
    "e_1, e_2 = np.array(e_1).astype(int), np.array(e_2).astype(int)\n",
    "\n",
    "sum = np.sum(e_1 * [np.sum([i == j for i in e_2]) for j in e_1])\n",
    "\n",
    "print(\"Part 1 total distance between lists:\", sum)\n"
   ]
  }
 ],
 "metadata": {
  "kernelspec": {
   "display_name": "base",
   "language": "python",
   "name": "python3"
  },
  "language_info": {
   "codemirror_mode": {
    "name": "ipython",
    "version": 3
   },
   "file_extension": ".py",
   "mimetype": "text/x-python",
   "name": "python",
   "nbconvert_exporter": "python",
   "pygments_lexer": "ipython3",
   "version": "3.12.4"
  },
  "orig_nbformat": 4
 },
 "nbformat": 4,
 "nbformat_minor": 2
}
